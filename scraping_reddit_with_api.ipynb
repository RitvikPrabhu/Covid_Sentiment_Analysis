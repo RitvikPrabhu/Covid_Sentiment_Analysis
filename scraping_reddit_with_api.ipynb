{
 "cells": [
  {
   "cell_type": "code",
   "execution_count": 1,
   "metadata": {},
   "outputs": [],
   "source": [
    "import praw\n",
    "import json"
   ]
  },
  {
   "cell_type": "code",
   "execution_count": 2,
   "metadata": {},
   "outputs": [],
   "source": [
    "def create_reddit_object(json_file = \"reddit_config.json\", json_key = \"reddit_user_values\"):\n",
    "    with open(json_file) as f:\n",
    "        data = json.load(f)\n",
    "    user_values = data[json_key]\n",
    "    reddit = praw.Reddit(client_id = user_values['client_id'],\n",
    "client_secret = user_values['client_secret'],\n",
    "user_agent = user_values['user_agent'],\n",
    "username = user_values['username'],\n",
    "password = user_values['password'],)\n",
    "    return reddit\n"
   ]
  },
  {
   "cell_type": "code",
   "execution_count": 3,
   "metadata": {},
   "outputs": [
    {
     "name": "stderr",
     "output_type": "stream",
     "text": [
      "Version 7.1.0 of praw is outdated. Version 7.3.0 was released 5 days ago.\n"
     ]
    }
   ],
   "source": [
    "reddit = create_reddit_object()"
   ]
  },
  {
   "cell_type": "code",
   "execution_count": 4,
   "metadata": {},
   "outputs": [],
   "source": [
    "subred = reddit.subreddit(\"learnpython\")"
   ]
  },
  {
   "cell_type": "code",
   "execution_count": 5,
   "metadata": {},
   "outputs": [],
   "source": [
    "hot = subred.hot(limit = 11)\n",
    "new = subred.new(limit = 10)\n",
    "controv = subred.controversial(limit = 10)\n",
    "top = subred.top(limit = 10)\n",
    "gilded = subred.gilded(limit = 10)"
   ]
  },
  {
   "cell_type": "code",
   "execution_count": 6,
   "metadata": {},
   "outputs": [
    {
     "data": {
      "text/plain": [
       "praw.models.listing.generator.ListingGenerator"
      ]
     },
     "execution_count": 6,
     "metadata": {},
     "output_type": "execute_result"
    }
   ],
   "source": [
    "type(hot)"
   ]
  },
  {
   "cell_type": "code",
   "execution_count": 7,
   "metadata": {},
   "outputs": [],
   "source": [
    "x = next(hot)"
   ]
  },
  {
   "cell_type": "code",
   "execution_count": 8,
   "metadata": {},
   "outputs": [
    {
     "data": {
      "text/plain": [
       "['STR_FIELD',\n",
       " '__class__',\n",
       " '__delattr__',\n",
       " '__dict__',\n",
       " '__dir__',\n",
       " '__doc__',\n",
       " '__eq__',\n",
       " '__format__',\n",
       " '__ge__',\n",
       " '__getattr__',\n",
       " '__getattribute__',\n",
       " '__gt__',\n",
       " '__hash__',\n",
       " '__init__',\n",
       " '__init_subclass__',\n",
       " '__le__',\n",
       " '__lt__',\n",
       " '__module__',\n",
       " '__ne__',\n",
       " '__new__',\n",
       " '__reduce__',\n",
       " '__reduce_ex__',\n",
       " '__repr__',\n",
       " '__setattr__',\n",
       " '__sizeof__',\n",
       " '__str__',\n",
       " '__subclasshook__',\n",
       " '__weakref__',\n",
       " '_chunk',\n",
       " '_comments_by_id',\n",
       " '_fetch',\n",
       " '_fetch_data',\n",
       " '_fetch_info',\n",
       " '_fetched',\n",
       " '_kind',\n",
       " '_reddit',\n",
       " '_reset_attributes',\n",
       " '_safely_add_arguments',\n",
       " '_url_parts',\n",
       " '_vote',\n",
       " 'all_awardings',\n",
       " 'allow_live_comments',\n",
       " 'approved_at_utc',\n",
       " 'approved_by',\n",
       " 'archived',\n",
       " 'author',\n",
       " 'author_flair_background_color',\n",
       " 'author_flair_css_class',\n",
       " 'author_flair_richtext',\n",
       " 'author_flair_template_id',\n",
       " 'author_flair_text',\n",
       " 'author_flair_text_color',\n",
       " 'author_flair_type',\n",
       " 'author_fullname',\n",
       " 'author_patreon_flair',\n",
       " 'author_premium',\n",
       " 'awarders',\n",
       " 'banned_at_utc',\n",
       " 'banned_by',\n",
       " 'can_gild',\n",
       " 'can_mod_post',\n",
       " 'category',\n",
       " 'clear_vote',\n",
       " 'clicked',\n",
       " 'comment_limit',\n",
       " 'comment_sort',\n",
       " 'comments',\n",
       " 'content_categories',\n",
       " 'contest_mode',\n",
       " 'created',\n",
       " 'created_utc',\n",
       " 'crosspost',\n",
       " 'delete',\n",
       " 'disable_inbox_replies',\n",
       " 'discussion_type',\n",
       " 'distinguished',\n",
       " 'domain',\n",
       " 'downs',\n",
       " 'downvote',\n",
       " 'duplicates',\n",
       " 'edit',\n",
       " 'edited',\n",
       " 'enable_inbox_replies',\n",
       " 'flair',\n",
       " 'fullname',\n",
       " 'gild',\n",
       " 'gilded',\n",
       " 'gildings',\n",
       " 'hidden',\n",
       " 'hide',\n",
       " 'hide_score',\n",
       " 'id',\n",
       " 'id_from_url',\n",
       " 'is_created_from_ads_ui',\n",
       " 'is_crosspostable',\n",
       " 'is_meta',\n",
       " 'is_original_content',\n",
       " 'is_reddit_media_domain',\n",
       " 'is_robot_indexable',\n",
       " 'is_self',\n",
       " 'is_video',\n",
       " 'likes',\n",
       " 'link_flair_background_color',\n",
       " 'link_flair_css_class',\n",
       " 'link_flair_richtext',\n",
       " 'link_flair_text',\n",
       " 'link_flair_text_color',\n",
       " 'link_flair_type',\n",
       " 'locked',\n",
       " 'mark_visited',\n",
       " 'media',\n",
       " 'media_embed',\n",
       " 'media_only',\n",
       " 'mod',\n",
       " 'mod_note',\n",
       " 'mod_reason_by',\n",
       " 'mod_reason_title',\n",
       " 'mod_reports',\n",
       " 'name',\n",
       " 'no_follow',\n",
       " 'num_comments',\n",
       " 'num_crossposts',\n",
       " 'num_reports',\n",
       " 'over_18',\n",
       " 'parent_whitelist_status',\n",
       " 'parse',\n",
       " 'permalink',\n",
       " 'pinned',\n",
       " 'pwls',\n",
       " 'quarantine',\n",
       " 'removal_reason',\n",
       " 'removed_by',\n",
       " 'removed_by_category',\n",
       " 'reply',\n",
       " 'report',\n",
       " 'report_reasons',\n",
       " 'save',\n",
       " 'saved',\n",
       " 'score',\n",
       " 'secure_media',\n",
       " 'secure_media_embed',\n",
       " 'selftext',\n",
       " 'selftext_html',\n",
       " 'send_replies',\n",
       " 'shortlink',\n",
       " 'spoiler',\n",
       " 'stickied',\n",
       " 'subreddit',\n",
       " 'subreddit_id',\n",
       " 'subreddit_name_prefixed',\n",
       " 'subreddit_subscribers',\n",
       " 'subreddit_type',\n",
       " 'suggested_sort',\n",
       " 'thumbnail',\n",
       " 'title',\n",
       " 'top_awarded_type',\n",
       " 'total_awards_received',\n",
       " 'treatment_tags',\n",
       " 'unhide',\n",
       " 'unsave',\n",
       " 'ups',\n",
       " 'upvote',\n",
       " 'upvote_ratio',\n",
       " 'url',\n",
       " 'user_reports',\n",
       " 'view_count',\n",
       " 'visited',\n",
       " 'whitelist_status',\n",
       " 'wls']"
      ]
     },
     "execution_count": 8,
     "metadata": {},
     "output_type": "execute_result"
    }
   ],
   "source": [
    "dir(x)"
   ]
  },
  {
   "cell_type": "code",
   "execution_count": 9,
   "metadata": {},
   "outputs": [
    {
     "name": "stdout",
     "output_type": "stream",
     "text": [
      "Finished Coursera Google Automation IT with Python Certificate, now what? https://www.reddit.com/r/learnpython/comments/o58wqy/finished_coursera_google_automation_it_with/\n",
      "am I dumb? why doesnt my last elif work? https://www.reddit.com/r/learnpython/comments/o5ku0t/am_i_dumb_why_doesnt_my_last_elif_work/\n",
      "Webscraping bitcoin price https://www.reddit.com/r/learnpython/comments/o5kmun/webscraping_bitcoin_price/\n",
      "How to check if a particular process id is running or not from python script ? https://www.reddit.com/r/learnpython/comments/o5kean/how_to_check_if_a_particular_process_id_is/\n",
      "How do I format a string to add a variable by opening a text file https://www.reddit.com/r/learnpython/comments/o4voyp/how_do_i_format_a_string_to_add_a_variable_by/\n",
      "Iterate over a list that keeps getting shorter https://www.reddit.com/r/learnpython/comments/o5dima/iterate_over_a_list_that_keeps_getting_shorter/\n",
      "Teaching Python on Raspberry PI 400 https://www.reddit.com/r/learnpython/comments/o5llbl/teaching_python_on_raspberry_pi_400/\n",
      "Working with APIs! https://www.reddit.com/r/learnpython/comments/o5l9ov/working_with_apis/\n",
      "Tic-Tac-Toe game https://www.reddit.com/r/learnpython/comments/o5hiie/tictactoe_game/\n",
      "Josephus problem https://www.reddit.com/r/learnpython/comments/o5kqgl/josephus_problem/\n"
     ]
    }
   ],
   "source": [
    "for i in hot:\n",
    "    print(i.title, i.url)"
   ]
  },
  {
   "cell_type": "code",
   "execution_count": null,
   "metadata": {},
   "outputs": [],
   "source": []
  }
 ],
 "metadata": {
  "kernelspec": {
   "display_name": "Python 3",
   "language": "python",
   "name": "python3"
  },
  "language_info": {
   "codemirror_mode": {
    "name": "ipython",
    "version": 3
   },
   "file_extension": ".py",
   "mimetype": "text/x-python",
   "name": "python",
   "nbconvert_exporter": "python",
   "pygments_lexer": "ipython3",
   "version": "3.7.6"
  }
 },
 "nbformat": 4,
 "nbformat_minor": 4
}
